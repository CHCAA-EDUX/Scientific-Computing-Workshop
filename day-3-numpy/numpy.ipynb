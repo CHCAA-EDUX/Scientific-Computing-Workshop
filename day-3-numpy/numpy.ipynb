{
 "cells": [
  {
   "cell_type": "markdown",
   "metadata": {},
   "source": [
    "# Formulas and Linear algebra\n",
    "\n",
    "When using programming for scientific computing it is important to be able to translate\n",
    "between mathematical notation and programming. This is what today's segment will try\n",
    "to teach you. \n",
    "\n",
    "Today we will be using `numpy`, a python package for numerical computation most notably\n",
    "implementing n-dimensional arrays (also called matrices, vectors and tensors).\n",
    "\n",
    "You can install `numpy` in the notebook by running:\n",
    "\n",
    "`\n",
    "!pip install numpy\n",
    "`\n",
    "\n",
    "If you want to install it from the terminal remove the `!`\n",
    "\n",
    "> If you have done mathematics of similar course, you might find much of this \n",
    "notebook trivially simple, feel free to start of with the exercises.\n",
    "\n",
    "-----"
   ]
  },
  {
   "cell_type": "markdown",
   "metadata": {},
   "source": [
    "## Numpy and basic linear algebra\n",
    "\n",
    "Numpy is the core library for scientific computing in Python. It provides a high-performance multidimensional array object, also called matrices or tensors, and tools for working with these arrays. \n",
    "\n",
    "If you are already familiar with `Matlab` or `R`, you might find these tutorials useful:\n",
    "- [NumPy for Matlab users](https://numpy.org/doc/stable/user/numpy-for-matlab-users.html)\n",
    "- [NumPy for R users](http://mathesaurus.sourceforge.net/r-numpy.html)\n",
    "\n",
    "we will start of by loading numpy:"
   ]
  },
  {
   "cell_type": "code",
   "execution_count": 1,
   "metadata": {},
   "outputs": [],
   "source": [
    "import numpy as np"
   ]
  },
  {
   "cell_type": "markdown",
   "metadata": {},
   "source": [
    "## Arrays\n",
    "\n"
   ]
  },
  {
   "cell_type": "markdown",
   "metadata": {},
   "source": [
    "\n",
    "A numpy array is a grid of values, all of the same type, and is indexed by a tuple of nonnegative integers. The number of dimensions is the rank of the array; the shape of an array is a tuple of integers giving the size of the array along each dimension. A a one dimensional array (shape `(n,)`) corresponds to a vector.\n",
    "\n",
    "We can initialize numpy arrays from nested Python lists, and access elements using square brackets:"
   ]
  },
  {
   "cell_type": "code",
   "execution_count": 2,
   "metadata": {},
   "outputs": [
    {
     "name": "stdout",
     "output_type": "stream",
     "text": [
      "a is type:  <class 'numpy.ndarray'>\n",
      "a has shape:  (3,)\n",
      "1 2 3\n",
      "[5 2 3]\n"
     ]
    }
   ],
   "source": [
    "a = np.array([1, 2, 3])  # Create a rank 1 array\n",
    "\n",
    "print(\"a is type: \", type(a))\n",
    "print(\"a has shape: \", a.shape)\n",
    "print(a[0], a[1], a[2])  # indexing\n",
    "a[0] = 5  # Change an element of the array\n",
    "print(a)     "
   ]
  },
  {
   "cell_type": "code",
   "execution_count": 3,
   "metadata": {},
   "outputs": [
    {
     "name": "stdout",
     "output_type": "stream",
     "text": [
      "[[1 2 3]\n",
      " [4 5 6]]\n"
     ]
    }
   ],
   "source": [
    "b = np.array([[1,2,3],[4,5,6]])   # Create a rank 2 array i.e. a matrix\n",
    "print(b)"
   ]
  },
  {
   "cell_type": "code",
   "execution_count": 4,
   "metadata": {},
   "outputs": [
    {
     "name": "stdout",
     "output_type": "stream",
     "text": [
      "(2, 3)\n",
      "1 2 4\n"
     ]
    }
   ],
   "source": [
    "print(b.shape)\n",
    "print(b[0, 0], b[0, 1], b[1, 0])"
   ]
  },
  {
   "cell_type": "markdown",
   "metadata": {},
   "source": [
    "## Mathematical operations on Arrays\n",
    "\n",
    "----\n"
   ]
  },
  {
   "cell_type": "markdown",
   "metadata": {},
   "source": [
    "Basic mathematical functions operate elementwise on arrays, and are available both as operator overloads and as functions in the numpy module:"
   ]
  },
  {
   "cell_type": "code",
   "execution_count": 5,
   "metadata": {},
   "outputs": [
    {
     "name": "stdout",
     "output_type": "stream",
     "text": [
      "[[ 6  8]\n",
      " [10 12]]\n"
     ]
    }
   ],
   "source": [
    "x = np.array([[1,2],[3,4]])\n",
    "y = np.array([[5,6],[7,8]])\n",
    "\n",
    "# Elementwise sum; both produce the array\n",
    "print(x + y)\n",
    "# or\n",
    "# print(np.add(x, y))"
   ]
  },
  {
   "cell_type": "code",
   "execution_count": 6,
   "metadata": {},
   "outputs": [
    {
     "name": "stdout",
     "output_type": "stream",
     "text": [
      "[[-4 -4]\n",
      " [-4 -4]]\n"
     ]
    }
   ],
   "source": [
    "# Elementwise difference; both produce the array\n",
    "print(x - y)\n",
    "# or\n",
    "# print(np.subtract(x, y))"
   ]
  },
  {
   "cell_type": "code",
   "execution_count": 10,
   "metadata": {},
   "outputs": [
    {
     "name": "stdout",
     "output_type": "stream",
     "text": [
      "[[1.         1.41421356]\n",
      " [1.73205081 2.        ]]\n"
     ]
    }
   ],
   "source": [
    "# Elementwise square root; produces the array\n",
    "print(np.sqrt(x))"
   ]
  },
  {
   "cell_type": "code",
   "execution_count": 11,
   "metadata": {},
   "outputs": [
    {
     "name": "stdout",
     "output_type": "stream",
     "text": [
      "[[0.2        0.33333333]\n",
      " [0.42857143 0.5       ]]\n"
     ]
    }
   ],
   "source": [
    "# Elementwise division; both produce the array\n",
    "print(x / y)\n",
    "# or\n",
    "# print(np.divide(x, y))"
   ]
  },
  {
   "cell_type": "code",
   "execution_count": 7,
   "metadata": {},
   "outputs": [
    {
     "name": "stdout",
     "output_type": "stream",
     "text": [
      "[[ 5 12]\n",
      " [21 32]]\n"
     ]
    }
   ],
   "source": [
    "# Elementwise product; both produce the array\n",
    "print(x * y)\n",
    "# or \n",
    "# print(np.multiply(x, y))"
   ]
  },
  {
   "cell_type": "markdown",
   "metadata": {},
   "source": [
    "**Note**: that unlike other programming languages (e.g. Matlab), `*` is elementwise multiplication, not matrix multiplication. We instead use the dot function to compute inner products of vectors, to multiply a vector by a matrix, and to multiply matrices. dot is available both as a function in the numpy module and as an instance method of array objects (more on this in the next section)"
   ]
  },
  {
   "cell_type": "code",
   "execution_count": 42,
   "metadata": {},
   "outputs": [
    {
     "name": "stdout",
     "output_type": "stream",
     "text": [
      "219\n",
      "219\n",
      "219\n"
     ]
    }
   ],
   "source": [
    "x = np.array([[1,2],[3,4]])\n",
    "y = np.array([[5,6],[7,8]])\n",
    "\n",
    "v = np.array([9,10])\n",
    "w = np.array([11, 12])\n",
    "\n",
    "# Inner product of vectors; all produce 219\n",
    "print(v @ w)\n",
    "# or equivalent:\n",
    "# print(v.dot(w))\n",
    "# print(np.dot(v, w))"
   ]
  },
  {
   "cell_type": "markdown",
   "metadata": {},
   "source": [
    "## List and Sums\n",
    "\n",
    "A notation which often seems daunting is the summation notation (unjustifiably so):\n",
    "\n",
    "$$\n",
    "\\sum_{i=1}^{11} i + 4\n",
    "$$\n",
    "\n",
    "What this mean is that for each number from 1 to 11:\n",
    "- take the number, \n",
    "- add 4 to it\n",
    "- sum them all together\n",
    "\n",
    "```python\n",
    "numbers_to_sum = []\n",
    "for n in range(1, 12): # not including 12\n",
    "    numbers_to_sum.append(n+4)\n",
    "sum(numbers_to_sum)\n",
    "\n",
    "# or written using a list comprehension\n",
    "# (which almost reads line a sentence)\n",
    "sum([n + 4 for n in range(1, 12)])\n",
    "```\n",
    "\n",
    "We assume you are familiar with python list. The rest of this section will compare numpy\n",
    "array with python lists.\n",
    "\n",
    "----"
   ]
  },
  {
   "cell_type": "markdown",
   "metadata": {},
   "source": [
    "Numpy and list differ in a variety of ways. Speed being one. How to mathemetical operations works being another:"
   ]
  },
  {
   "cell_type": "code",
   "execution_count": 16,
   "metadata": {},
   "outputs": [
    {
     "name": "stdout",
     "output_type": "stream",
     "text": [
      "[2, 3, 4, 5, 6, 7, 8, 9, 10, 11]\n",
      "[ 2  3  4  5  6  7  8  9 10 11]\n"
     ]
    }
   ],
   "source": [
    "# a list from 0 to 9\n",
    "np_range = np.arange(10)\n",
    "py_range = list(range(10))\n",
    "\n",
    "# Elementwise addition in list\n",
    "print([t + 2 for t in py_range])\n",
    "\n",
    "# Elementwise addition in numpy array\n",
    "print(np_range+2)\n"
   ]
  },
  {
   "cell_type": "markdown",
   "metadata": {},
   "source": [
    "trying the same thing with lists:\n",
    "\n",
    "```python\n",
    "print(py_range + 2)\n",
    "```\n",
    "\n",
    "> Q: What will happen, when I run this code?"
   ]
  },
  {
   "cell_type": "code",
   "execution_count": 18,
   "metadata": {},
   "outputs": [],
   "source": [
    "# trying this with python lists\n",
    "# py_range + 2"
   ]
  },
  {
   "cell_type": "markdown",
   "metadata": {},
   "source": [
    "**Speed comparison** is left as an exercise for the reader see `numpy_task.ipynb`."
   ]
  },
  {
   "cell_type": "markdown",
   "metadata": {},
   "source": [
    "Why are numpy arrays faster for scientific computing? Well at least, \n",
    "\n",
    "1) They use less bytes to represent the number, \n",
    "2) keep things in the same place to rather than simply pointing to them. You could\n",
    "    imagine why this is efficient when dealing with smaller objects, but if you are dealing with large object moving them all to the same place takes time.\n",
    "3) numpy enforce types which lists does not. This makes list very flexible, but also slow."
   ]
  },
  {
   "cell_type": "markdown",
   "metadata": {},
   "source": [
    "## Mutability\n",
    "\n",
    "A way in which numpy arrays and lists are similar is that they are both mutable. I.e.\n",
    "you are allowed to change to object without recreating it."
   ]
  },
  {
   "cell_type": "code",
   "execution_count": 23,
   "metadata": {},
   "outputs": [
    {
     "name": "stdout",
     "output_type": "stream",
     "text": [
      "[1 1 2 0 4 5 6 7 8 9]\n",
      "[0, 1, 2, 0, 4, 5, 0, 7, 8, 9]\n"
     ]
    }
   ],
   "source": [
    "np_range[3] = 0 # replace element with 0\n",
    "print(np_range)\n",
    "py_range[6] = 0 \n",
    "print(py_range)"
   ]
  },
  {
   "cell_type": "markdown",
   "metadata": {},
   "source": [
    "## Matrices and matrix multiplications\n",
    "\n",
    "---"
   ]
  },
  {
   "cell_type": "markdown",
   "metadata": {},
   "source": [
    "A matrix is in abstraction to deal with linear systems. For example\n",
    "\n",
    "$$\n",
    "2x + 4y + 6z = 18\\\\\n",
    "\n",
    "4x + 5y + 6z = 24\\\\\n",
    "\n",
    "3x + y + 2z = 4\\\\\n",
    "$$\n",
    "\n",
    "$$\n",
    "A = \\begin{bmatrix}\n",
    "2 & 4 & 6\\\\\n",
    "4 & 5 & 6\\\\\n",
    "3 & 1 & 2\n",
    "\\end{bmatrix},\n",
    "\n",
    "x = \\begin{bmatrix}\n",
    "x \\\\\n",
    "y \\\\\n",
    "z \n",
    "\\end{bmatrix},\n",
    "\n",
    "y = \\begin{bmatrix}\n",
    "18 \\\\\n",
    "24 \\\\\n",
    "4 \n",
    "\\end{bmatrix}\n",
    "\n",
    "$$\n",
    "\n",
    "> Blackboard: Practical example of how to use the abstraction\n",
    "\n",
    "\n",
    "\n",
    "Thus we would want to implement a complex system of linear equations as\n",
    "\n",
    "$$\n",
    "  \n",
    "    \\begin{cases}\n",
    "      a_{11} \\cdot x_1 +  a_{12} \\cdot x_2 + \\cdots a_{1n} \\cdot x_n = y_1  \\\\\n",
    "      a_{21} \\cdot x_1 +  a_{22} \\cdot x_2 + \\cdots a_{2n} \\cdot x_n = y_2  \\\\\n",
    "      \\cdots \\\\\n",
    "      a_{n1} \\cdot x_1 +  a_{n2} \\cdot x_2 + \\cdots a_{1n} \\cdot x_n = y_n  \\\\\n",
    "    \\end{cases}  \n",
    "$$\n",
    "\n",
    "Which gives rise to the quite natural compact notation:\n",
    "\n",
    "$$\n",
    "A \\cdot x = y\n",
    "$$\n",
    "\n",
    "> Q: Where have you seen this notation before?\n",
    "<!--\n",
    "Linear regression \n",
    "You can write it out to:\n",
    "a_1 * x_1 + a_2 * x_2 + ... = y\n",
    "it also translates nicely to neural networks\n",
    "-->\n",
    "\n",
    "> Blackboard: Example of multiplication\n",
    "<!-- For solving linear systems -->\n",
    "\n",
    "\n",
    "<br /> \n",
    "\n",
    "<details>\n",
    "  <summary>Rules for multiplication</summary>\n",
    "\n",
    "---\n",
    "\n",
    "If $A$ is an $m \\times n$ matrix and $B$ is an $n \\times p$ matrix,\n",
    "$$\n",
    "A=\\begin{bmatrix}\n",
    " a_{11} & a_{12} & \\cdots & a_{1n} \\\\\n",
    " a_{21} & a_{22} & \\cdots & a_{2n} \\\\\n",
    "\\vdots & \\vdots & \\ddots & \\vdots \\\\\n",
    " a_{m1} & a_{m2} & \\cdots & a_{mn} \\\\\n",
    "\\end{bmatrix},\n",
    "\\quad B=\\begin{bmatrix}\n",
    " b_{11} & b_{12} & \\cdots & b_{1p} \\\\\n",
    " b_{21} & b_{22} & \\cdots & b_{2p} \\\\\n",
    "\\vdots & \\vdots & \\ddots & \\vdots \\\\\n",
    " b_{n1} & b_{n2} & \\cdots & b_{np} \\\\\n",
    "\\end{bmatrix}\n",
    "$$\n",
    "\n",
    "the *matrix product* (denoted without multiplication signs or dots) is defined to be the $m \\times p$ matrix.\n",
    "$$\n",
    "\\mathbf{C}=\\begin{bmatrix}\n",
    " c_{11} & c_{12} & \\cdots & c_{1p} \\\\\n",
    " c_{21} & c_{22} & \\cdots & c_{2p} \\\\\n",
    "\\vdots & \\vdots & \\ddots & \\vdots \\\\\n",
    " c_{m1} & c_{m2} & \\cdots & c_{mp} \\\\\n",
    "\\end{bmatrix}\n",
    "$$\n",
    "such that \n",
    "$$c_{ij} = a_{i1}b_{1j} + a_{i2}b_{2j} +\\cdots + a_{in}b_{nj}= \\sum_{k=1}^n a_{ik}b_{kj}$$\n",
    "for $i = 1, ..., m$ and $j = 1, ..., p$.\n",
    "\n",
    "---\n",
    "\n",
    "</details>\n",
    "\n",
    "\n",
    "This has the addded benefit of preserving:\n",
    "\n",
    "vector addition:\n",
    "$$\n",
    "A \\cdot (x + y) = A \\cdot x + A \\cdot y\n",
    "$$\n",
    "\n",
    "and scalar multiplication\n",
    "$$\n",
    "A \\cdot (\\alpha \\cdot x) = \\alpha \\cdot A \\cdot x \n",
    "$$\n",
    "\n",
    "These properties are quite convenient, but for instance we does loose commutativity (that is $a \\cdot b$ does not equal $b \\cdot a$). \n",
    "\n",
    "> Exercise: Multiply A with x and A with A by hand.\n",
    "\n",
    "> Exercise: Check the answer using numpy, *Hint* the dot product corresponds to matrix multiplication"
   ]
  },
  {
   "cell_type": "code",
   "execution_count": 45,
   "metadata": {},
   "outputs": [],
   "source": [
    "# for the exercise"
   ]
  },
  {
   "cell_type": "markdown",
   "metadata": {},
   "source": [
    "### Working with matrices in numpy\n",
    "You can do a bunch of things with matrices including getting eigenvalues, determininants and much more. Here I will present a few cases:"
   ]
  },
  {
   "cell_type": "code",
   "execution_count": 26,
   "metadata": {},
   "outputs": [
    {
     "name": "stdout",
     "output_type": "stream",
     "text": [
      "[[3 4 0]\n",
      " [2 0 0]\n",
      " [1 3 4]] \n",
      " ---\n",
      "[[3 2 1]\n",
      " [4 0 3]\n",
      " [0 0 4]]\n"
     ]
    }
   ],
   "source": [
    "arr = np.random.randint(0, 5, size=9)\n",
    "arr = arr.reshape((3, 3))\n",
    "print(arr, \"\\n\", \"---\")\n",
    "\n",
    "# Transpose\n",
    "print(arr.T)"
   ]
  },
  {
   "cell_type": "code",
   "execution_count": 65,
   "metadata": {},
   "outputs": [
    {
     "name": "stdout",
     "output_type": "stream",
     "text": [
      "[[ 4  3  2]\n",
      " [-2  2  3]\n",
      " [ 3 -5  2]]\n",
      "[ 5.  3. -2.]\n",
      "[ True  True  True]\n"
     ]
    }
   ],
   "source": [
    "\n",
    "A = np.array([[4, 3, 2], [-2, 2, 3], [3, -5, 2]])\n",
    "y = np.array([25, -10, -4])\n",
    "print(A)\n",
    "\n",
    "# solve for x\n",
    "x = np.linalg.solve(A, y)\n",
    "print(x)\n",
    "# test solution\n",
    "print(A @ x == y)"
   ]
  },
  {
   "cell_type": "markdown",
   "metadata": {},
   "source": [
    "## Creating, combining and indexing arrays\n",
    "\n",
    "\n",
    "> Self-paced: These following are function for creating, combining and indexing arrays. They are really good to know. Go through them and ask if there is any problems."
   ]
  },
  {
   "cell_type": "markdown",
   "metadata": {},
   "source": [
    "### Creating arrays\n",
    "Numpy also provides many functions to create arrays:\n",
    "\n"
   ]
  },
  {
   "cell_type": "code",
   "execution_count": 14,
   "metadata": {},
   "outputs": [
    {
     "name": "stdout",
     "output_type": "stream",
     "text": [
      "[[0. 0.]\n",
      " [0. 0.]]\n"
     ]
    }
   ],
   "source": [
    "a = np.zeros((2,2))  # Create an array of all zeros\n",
    "print(a)"
   ]
  },
  {
   "cell_type": "code",
   "execution_count": 15,
   "metadata": {},
   "outputs": [
    {
     "name": "stdout",
     "output_type": "stream",
     "text": [
      "[[1. 1.]]\n"
     ]
    }
   ],
   "source": [
    "b = np.ones((1,2))   # Create an array of all ones\n",
    "print(b)"
   ]
  },
  {
   "cell_type": "code",
   "execution_count": 16,
   "metadata": {},
   "outputs": [
    {
     "name": "stdout",
     "output_type": "stream",
     "text": [
      "[[7 7]\n",
      " [7 7]]\n"
     ]
    }
   ],
   "source": [
    "c = np.full((2,2), 7) # Create a constant array\n",
    "print(c)"
   ]
  },
  {
   "cell_type": "code",
   "execution_count": 17,
   "metadata": {},
   "outputs": [
    {
     "name": "stdout",
     "output_type": "stream",
     "text": [
      "[[0.55818153 0.02395433]\n",
      " [0.64079631 0.71815421]]\n"
     ]
    }
   ],
   "source": [
    "e = np.random.random((2,2)) # Create an array filled with random values (uniform 0-1)\n",
    "print(e)"
   ]
  },
  {
   "cell_type": "markdown",
   "metadata": {},
   "source": [
    "You can also do sampling from distributions, e.g."
   ]
  },
  {
   "cell_type": "code",
   "execution_count": 66,
   "metadata": {},
   "outputs": [
    {
     "name": "stdout",
     "output_type": "stream",
     "text": [
      "[-0.02111395  2.76466364  0.4556717   1.59308923  1.08872265  0.22306349\n",
      "  1.91825501  2.72253673  0.14311447  1.18108731]\n"
     ]
    }
   ],
   "source": [
    "e = np.random.normal(1, 1, size = 10) # 10 samples from Normal(1, 1) \n",
    "print(e)"
   ]
  },
  {
   "cell_type": "markdown",
   "metadata": {},
   "source": [
    "### Combining arrays\n",
    "You can naturally also combine arrays for example by stacking for concatenating:"
   ]
  },
  {
   "cell_type": "code",
   "execution_count": 72,
   "metadata": {},
   "outputs": [
    {
     "name": "stdout",
     "output_type": "stream",
     "text": [
      "(4, 2)\n",
      "(2, 2, 2)\n"
     ]
    }
   ],
   "source": [
    "v = np.random.random((2,2))\n",
    "c = np.concatenate([v, v])\n",
    "print(c.shape)\n",
    "c = np.stack([v, v])\n",
    "print(c.shape)"
   ]
  },
  {
   "cell_type": "markdown",
   "metadata": {},
   "source": [
    "### Array indexing\n"
   ]
  },
  {
   "cell_type": "markdown",
   "metadata": {},
   "source": [
    "Numpy offers several ways to index into arrays.\n",
    "\n",
    "#### Slicing\n",
    "\n",
    "Similar to Python lists, numpy arrays can be sliced. Since arrays may be multidimensional, you must specify a slice for each dimension of the array:\n",
    "\n",
    "**Note for next time teaching**: This section should probably be slightly modified to have a bit more meaningful workflow"
   ]
  },
  {
   "cell_type": "code",
   "execution_count": 18,
   "metadata": {},
   "outputs": [
    {
     "name": "stdout",
     "output_type": "stream",
     "text": [
      "[[2 3]\n",
      " [6 7]]\n"
     ]
    }
   ],
   "source": [
    "import numpy as np\n",
    "\n",
    "# Create the following rank 2 array with shape (3, 4)\n",
    "# [[ 1  2  3  4]\n",
    "#  [ 5  6  7  8]\n",
    "#  [ 9 10 11 12]]\n",
    "a = np.array([[1,2,3,4], [5,6,7,8], [9,10,11,12]])\n",
    "\n",
    "# Use slicing to pull out the subarray consisting of the first 2 rows\n",
    "# and columns 1 and 2; b is the following array of shape (2, 2):\n",
    "# [[2 3]\n",
    "#  [6 7]]\n",
    "b = a[:2, 1:3]\n",
    "print(b)"
   ]
  },
  {
   "cell_type": "markdown",
   "metadata": {},
   "source": [
    "A slice of an array is a view into the same data, so modifying it will modify the original array."
   ]
  },
  {
   "cell_type": "code",
   "execution_count": 19,
   "metadata": {},
   "outputs": [
    {
     "name": "stdout",
     "output_type": "stream",
     "text": [
      "2\n",
      "77\n"
     ]
    }
   ],
   "source": [
    "print(a[0, 1])\n",
    "b[0, 0] = 77    # b[0, 0] is the same piece of data as a[0, 1]\n",
    "print(a[0, 1]) "
   ]
  },
  {
   "cell_type": "markdown",
   "metadata": {},
   "source": [
    "You can also mix integer indexing with slice indexing. However, doing so will yield an array of lower rank than the original array. Note that this is quite different from the way that MATLAB handles array slicing:"
   ]
  },
  {
   "cell_type": "code",
   "execution_count": 20,
   "metadata": {},
   "outputs": [
    {
     "name": "stdout",
     "output_type": "stream",
     "text": [
      "[[ 1  2  3  4]\n",
      " [ 5  6  7  8]\n",
      " [ 9 10 11 12]]\n"
     ]
    }
   ],
   "source": [
    "# Create the following rank 2 array with shape (3, 4)\n",
    "a = np.array([[1,2,3,4], [5,6,7,8], [9,10,11,12]])\n",
    "print(a)"
   ]
  },
  {
   "cell_type": "markdown",
   "metadata": {},
   "source": [
    "Two ways of accessing the data in the middle row of the array.\n",
    "Mixing integer indexing with slices yields an array of lower rank,\n",
    "while using only slices yields an array of the same rank as the\n",
    "original array:"
   ]
  },
  {
   "cell_type": "code",
   "execution_count": 21,
   "metadata": {},
   "outputs": [
    {
     "name": "stdout",
     "output_type": "stream",
     "text": [
      "[5 6 7 8] (4,)\n",
      "[[5 6 7 8]] (1, 4)\n",
      "[[5 6 7 8]] (1, 4)\n"
     ]
    }
   ],
   "source": [
    "row_r1 = a[1, :]    # Rank 1 view of the second row of a  \n",
    "row_r2 = a[1:2, :]  # Rank 2 view of the second row of a\n",
    "row_r3 = a[[1], :]  # Rank 2 view of the second row of a\n",
    "print(row_r1, row_r1.shape)\n",
    "print(row_r2, row_r2.shape)\n",
    "print(row_r3, row_r3.shape)"
   ]
  },
  {
   "cell_type": "code",
   "execution_count": 22,
   "metadata": {},
   "outputs": [
    {
     "name": "stdout",
     "output_type": "stream",
     "text": [
      "[ 2  6 10] (3,)\n",
      "\n",
      "[[ 2]\n",
      " [ 6]\n",
      " [10]] (3, 1)\n"
     ]
    }
   ],
   "source": [
    "# We can make the same distinction when accessing columns of an array:\n",
    "col_r1 = a[:, 1]\n",
    "col_r2 = a[:, 1:2]\n",
    "print(col_r1, col_r1.shape)\n",
    "print()\n",
    "print(col_r2, col_r2.shape)"
   ]
  },
  {
   "cell_type": "markdown",
   "metadata": {},
   "source": [
    "Integer array indexing: When you index into numpy arrays using slicing, the resulting array view will always be a subarray of the original array. In contrast, integer array indexing allows you to construct arbitrary arrays using the data from another array. Here is an example:\n"
   ]
  },
  {
   "cell_type": "code",
   "execution_count": 23,
   "metadata": {},
   "outputs": [
    {
     "name": "stdout",
     "output_type": "stream",
     "text": [
      "[1 4 5]\n",
      "[1 4 5]\n"
     ]
    }
   ],
   "source": [
    "a = np.array([[1,2], [3, 4], [5, 6]])\n",
    "\n",
    "# An example of integer array indexing.\n",
    "# The returned array will have shape (3,) and \n",
    "print(a[[0, 1, 2], [0, 1, 0]])\n",
    "\n",
    "# The above example of integer array indexing is equivalent to this:\n",
    "print(np.array([a[0, 0], a[1, 1], a[2, 0]]))"
   ]
  },
  {
   "cell_type": "code",
   "execution_count": 24,
   "metadata": {},
   "outputs": [
    {
     "name": "stdout",
     "output_type": "stream",
     "text": [
      "[2 2]\n",
      "[2 2]\n"
     ]
    }
   ],
   "source": [
    "# When using integer array indexing, you can reuse the same\n",
    "# element from the source array:\n",
    "print(a[[0, 0], [1, 1]])\n",
    "\n",
    "# Equivalent to the previous integer array indexing example\n",
    "print(np.array([a[0, 1], a[0, 1]]))"
   ]
  },
  {
   "cell_type": "markdown",
   "metadata": {},
   "source": [
    "One useful trick with integer array indexing is selecting or mutating one element from each row of a matrix:"
   ]
  },
  {
   "cell_type": "code",
   "execution_count": 25,
   "metadata": {},
   "outputs": [
    {
     "name": "stdout",
     "output_type": "stream",
     "text": [
      "[[ 1  2  3]\n",
      " [ 4  5  6]\n",
      " [ 7  8  9]\n",
      " [10 11 12]]\n"
     ]
    }
   ],
   "source": [
    "# Create a new array from which we will select elements\n",
    "a = np.array([[1,2,3], [4,5,6], [7,8,9], [10, 11, 12]])\n",
    "print(a)"
   ]
  },
  {
   "cell_type": "code",
   "execution_count": 26,
   "metadata": {},
   "outputs": [
    {
     "name": "stdout",
     "output_type": "stream",
     "text": [
      "[ 1  6  7 11]\n"
     ]
    }
   ],
   "source": [
    "# Create an array of indices\n",
    "b = np.array([0, 2, 0, 1])\n",
    "\n",
    "# Select one element from each row of a using the indices in b\n",
    "print(a[np.arange(4), b])"
   ]
  },
  {
   "cell_type": "code",
   "execution_count": 27,
   "metadata": {},
   "outputs": [
    {
     "name": "stdout",
     "output_type": "stream",
     "text": [
      "[[11  2  3]\n",
      " [ 4  5 16]\n",
      " [17  8  9]\n",
      " [10 21 12]]\n"
     ]
    }
   ],
   "source": [
    "# Mutate one element from each row of a using the indices in b\n",
    "a[np.arange(4), b] += 10\n",
    "print(a)"
   ]
  },
  {
   "cell_type": "markdown",
   "metadata": {},
   "source": [
    "### Boolean array indexing\n",
    "Boolean array indexing lets you pick out arbitrary elements of an array. Frequently this type of indexing is used to select the elements of an array that satisfy some condition. Here is an example:"
   ]
  },
  {
   "cell_type": "code",
   "execution_count": 28,
   "metadata": {},
   "outputs": [
    {
     "name": "stdout",
     "output_type": "stream",
     "text": [
      "[[False False]\n",
      " [ True  True]\n",
      " [ True  True]]\n"
     ]
    }
   ],
   "source": [
    "import numpy as np\n",
    "\n",
    "a = np.array([[1,2], [3, 4], [5, 6]])\n",
    "\n",
    "bool_idx = (a > 2)  # Find the elements of a that are bigger than 2;\n",
    "                    # this returns a numpy array of Booleans of the same\n",
    "                    # shape as a, where each slot of bool_idx tells\n",
    "                    # whether that element of a is > 2.\n",
    "\n",
    "print(bool_idx)"
   ]
  },
  {
   "cell_type": "code",
   "execution_count": 29,
   "metadata": {},
   "outputs": [
    {
     "name": "stdout",
     "output_type": "stream",
     "text": [
      "[3 4 5 6]\n",
      "[3 4 5 6]\n"
     ]
    }
   ],
   "source": [
    "# We use boolean array indexing to construct a rank 1 array\n",
    "# consisting of the elements of a corresponding to the True values\n",
    "# of bool_idx\n",
    "print(a[bool_idx])\n",
    "\n",
    "# We can do all of the above in a single concise statement:\n",
    "print(a[a > 2])"
   ]
  },
  {
   "cell_type": "markdown",
   "metadata": {},
   "source": [
    "For brevity we have left out a lot of details about numpy array indexing; if you want to know more you should read the documentation."
   ]
  },
  {
   "cell_type": "markdown",
   "metadata": {},
   "source": [
    "## Data types\n",
    "\n",
    "---"
   ]
  },
  {
   "cell_type": "markdown",
   "metadata": {},
   "source": [
    "Every numpy array is a grid of elements of the same type. Numpy provides a large set of numeric datatypes that you can use to construct arrays. Numpy tries to guess a datatype when you create an array, but functions that construct arrays usually also include an optional argument to explicitly specify the datatype. Here is an example:\n",
    "\n",
    "\n"
   ]
  },
  {
   "cell_type": "code",
   "execution_count": 30,
   "metadata": {},
   "outputs": [
    {
     "name": "stdout",
     "output_type": "stream",
     "text": [
      "int64 float64 int64\n"
     ]
    }
   ],
   "source": [
    "x = np.array([1, 2])  # Let numpy choose the datatype\n",
    "y = np.array([1.0, 2.0])  # Let numpy choose the datatype\n",
    "z = np.array([1, 2], dtype=np.int64)  # Force a particular datatype\n",
    "\n",
    "print(x.dtype, y.dtype, z.dtype)"
   ]
  },
  {
   "cell_type": "markdown",
   "metadata": {},
   "source": [
    "You can read all about numpy datatypes in the [documentation](http://docs.scipy.org/doc/numpy/reference/arrays.dtypes.html)."
   ]
  },
  {
   "cell_type": "markdown",
   "metadata": {},
   "source": [
    "# Learning more\n",
    "---\n",
    "- 2D matrix calculus (up to a point) can be understood as transformation of a space. This abstraction is nice for building intuition, but as this is mostly introductory I will recommend 3Blue1Brown series on [the essence of linear algebra](https://www.youtube.com/watch?v=XkY2DOUCWMU).\n",
    "\n",
    "- There is also a free [book](https://data.math.au.dk/interactive/linalg/2020/index.html) from Aarhus university on matrix algebra which you might find useful as it includes videos and exercises as well). It is sadly in Danish.\n",
    "\n",
    "- If you wish to is recap on this later there is a wonderfully [brief overview of numpy](https://www.youtube.com/watch?v=19u7w2HdkBE) på Gert at Aarhus university, sadly also Danish. If you prefer english there is a [1 hour introduction to numpy](https://www.youtube.com/watch?v=QUT1VHiLmmI&t=2686s) on code camp's youtube channel. I also recommend the other videoes by Gert on his channel."
   ]
  },
  {
   "cell_type": "markdown",
   "metadata": {},
   "source": []
  }
 ],
 "metadata": {
  "kernelspec": {
   "display_name": "Python 3.10.6 ('asent')",
   "language": "python",
   "name": "python3"
  },
  "language_info": {
   "codemirror_mode": {
    "name": "ipython",
    "version": 3
   },
   "file_extension": ".py",
   "mimetype": "text/x-python",
   "name": "python",
   "nbconvert_exporter": "python",
   "pygments_lexer": "ipython3",
   "version": "3.10.6"
  },
  "orig_nbformat": 4,
  "vscode": {
   "interpreter": {
    "hash": "4bf26e8f1c179b01cb59a2d6823fb6cd29f134e7c953e081ed300474f231d990"
   }
  }
 },
 "nbformat": 4,
 "nbformat_minor": 2
}
